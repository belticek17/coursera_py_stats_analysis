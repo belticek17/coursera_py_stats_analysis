{
 "cells": [
  {
   "cell_type": "code",
   "execution_count": 1,
   "metadata": {
    "collapsed": true
   },
   "outputs": [],
   "source": [
    "import pandas as pd\n",
    "import numpy as np\n",
    "import matplotlib as plt"
   ]
  },
  {
   "cell_type": "code",
   "execution_count": 7,
   "metadata": {},
   "outputs": [
    {
     "name": "stdout",
     "output_type": "stream",
     "text": [
      "7    16\n",
      "0    47\n",
      "5    13\n",
      "9    60\n",
      "2    85\n",
      "Name: Population, dtype: int64\n",
      "6    72\n",
      "8    50\n",
      "1    48\n",
      "1    48\n",
      "0    47\n",
      "Name: Population, dtype: int64\n"
     ]
    }
   ],
   "source": [
    "data = pd.DataFrame()\n",
    "data['Population'] = [47, 48, 85, 20, 19, 13, 72, 16, 50, 60]\n",
    "swor = data['Population'].sample(5, replace=False)\n",
    "print(swor)\n",
    "swr = data['Population'].sample(5, replace=True)\n",
    "print(swr)"
   ]
  },
  {
   "cell_type": "code",
   "execution_count": 13,
   "metadata": {},
   "outputs": [
    {
     "name": "stdout",
     "output_type": "stream",
     "text": [
      "Population mean is 43.0\n",
      "Population variance is 571.8\n",
      "Population standard deviation is 23.912339910598458\n",
      "Population size is 10\n"
     ]
    }
   ],
   "source": [
    "print(f\"Population mean is {data['Population'].mean()}\")\n",
    "print(f\"Population variance is {data['Population'].var(ddof=0)}\")\n",
    "print(f\"Population standard deviation is {data['Population'].std(ddof=0)}\")\n",
    "print(f\"Population size is {data['Population'].shape[0]}\")"
   ]
  },
  {
   "cell_type": "code",
   "execution_count": 22,
   "metadata": {},
   "outputs": [
    {
     "name": "stdout",
     "output_type": "stream",
     "text": [
      "Sample mean is 45.2\n",
      "Sample variance is 833.5111111111111\n",
      "Sample standard deviation is 28.870592496710405\n",
      "Sample size is 10\n"
     ]
    }
   ],
   "source": [
    "sample1 = data['Population'].sample(10, replace=True)\n",
    "print(f\"Sample mean is {sample1.mean()}\")\n",
    "print(f\"Sample variance is {sample1.var(ddof=1)}\")\n",
    "print(f\"Sample standard deviation is {sample1.std(ddof=1)}\")\n",
    "print(f\"Sample size is {sample1.shape[0]}\")"
   ]
  },
  {
   "cell_type": "code",
   "execution_count": 47,
   "metadata": {},
   "outputs": [
    {
     "name": "stdout",
     "output_type": "stream",
     "text": [
      "Population variance is 571.8\n",
      "Average of sample variance with n is 557.61778\n",
      "Average of sample variance with n-1 is 571.7510024489796\n"
     ]
    }
   ],
   "source": [
    "sample_len = 500\n",
    "sample_var_collection0 = [data['Population']\n",
    "                          .sample(50, replace=True)\n",
    "                          .var(ddof=0)\n",
    "                         for i in range(sample_len)]\n",
    "sample_var_collection1 = [data['Population']\n",
    "                          .sample(50, replace=True)\n",
    "                          .var(ddof=1)\n",
    "                          for i in range(sample_len)]\n",
    "print(f\"Population variance is {data['Population'].var(ddof=0)}\")\n",
    "print(f\"Average of sample variance with n is {pd.DataFrame(sample_var_collection0)[0].mean()}\")\n",
    "print(f\"Average of sample variance with n-1 is {pd.DataFrame(sample_var_collection1)[0].mean()}\")"
   ]
  }
 ],
 "metadata": {
  "kernelspec": {
   "display_name": "Python 3",
   "language": "python",
   "name": "python3"
  },
  "language_info": {
   "codemirror_mode": {
    "name": "ipython",
    "version": 3
   },
   "file_extension": ".py",
   "mimetype": "text/x-python",
   "name": "python",
   "nbconvert_exporter": "python",
   "pygments_lexer": "ipython3",
   "version": "3.6.2"
  }
 },
 "nbformat": 4,
 "nbformat_minor": 2
}
