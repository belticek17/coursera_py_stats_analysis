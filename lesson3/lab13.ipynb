{
 "cells": [
  {
   "cell_type": "code",
   "execution_count": 9,
   "metadata": {},
   "outputs": [],
   "source": [
    "import pandas as pd\n",
    "import numpy as np\n",
    "import matplotlib as plt\n",
    "from scipy.stats import norm"
   ]
  },
  {
   "cell_type": "code",
   "execution_count": 5,
   "metadata": {},
   "outputs": [
    {
     "data": {
      "text/plain": [
       "<matplotlib.axes._subplots.AxesSubplot at 0x7fe7b2af87f0>"
      ]
     },
     "execution_count": 5,
     "metadata": {},
     "output_type": "execute_result"
    }
   ],
   "source": [
    "apl = pd.read_csv('../data/apple.csv', index_col=0)\n",
    "apl['logreturn'] = np.log(apl['Close'].shift(-1)) - np.log(apl['Close'])\n",
    "apl['logreturn'].hist(bins=500, normed=1)"
   ]
  },
  {
   "cell_type": "code",
   "execution_count": 13,
   "metadata": {},
   "outputs": [],
   "source": [
    "# values for calculating the 80% confidence interval\n",
    "z_left = norm.ppf(0.1)\n",
    "z_right = norm.ppf(0.9)\n",
    "sample_mean = apl['logreturn'].mean()\n",
    "sample_std = apl['logreturn'].std(ddof=1) / (apl['logreturn'].shape[0]) ** 0.5"
   ]
  },
  {
   "cell_type": "code",
   "execution_count": 16,
   "metadata": {},
   "outputs": [
    {
     "name": "stdout",
     "output_type": "stream",
     "text": [
      "Sample Mean is 0.000975467759150088\n",
      "**************************************************************************\n",
      "80% confidence interval is (0.00049273672549367546, 0.0014581987928065005)\n"
     ]
    }
   ],
   "source": [
    "interval_left = sample_mean + z_left * sample_std\n",
    "interval_right = sample_mean + z_right * sample_std\n",
    "print(f\"Sample Mean is {sample_mean}\")\n",
    "print(\"**************************************************************************\")\n",
    "print(f\"80% confidence interval is {interval_left, interval_right}\")"
   ]
  }
 ],
 "metadata": {
  "kernelspec": {
   "display_name": "Python 3",
   "language": "python",
   "name": "python3"
  },
  "language_info": {
   "codemirror_mode": {
    "name": "ipython",
    "version": 3
   },
   "file_extension": ".py",
   "mimetype": "text/x-python",
   "name": "python",
   "nbconvert_exporter": "python",
   "pygments_lexer": "ipython3",
   "version": "3.6.2"
  }
 },
 "nbformat": 4,
 "nbformat_minor": 2
}
