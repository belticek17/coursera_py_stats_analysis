{
 "cells": [
  {
   "cell_type": "code",
   "execution_count": 2,
   "metadata": {
    "collapsed": true
   },
   "outputs": [],
   "source": [
    "import pandas as pd\n",
    "import numpy as np\n",
    "import matplotlib as plt"
   ]
  },
  {
   "cell_type": "code",
   "execution_count": 7,
   "metadata": {},
   "outputs": [
    {
     "name": "stdout",
     "output_type": "stream",
     "text": [
      "sample mean is 9.19395842410201\n",
      "sample SD is 4.7065352906043145\n"
     ]
    }
   ],
   "source": [
    "Fstsample = pd.DataFrame(np.random.normal(10, 5, size=30))\n",
    "print(f\"sample mean is {Fstsample[0].mean()}\")\n",
    "print(f\"sample SD is {Fstsample[0].std(ddof=1)}\")"
   ]
  },
  {
   "cell_type": "code",
   "execution_count": 14,
   "metadata": {},
   "outputs": [
    {
     "data": {
      "text/plain": [
       "<matplotlib.axes._subplots.AxesSubplot at 0x7f53fe0a54e0>"
      ]
     },
     "execution_count": 14,
     "metadata": {},
     "output_type": "execute_result"
    }
   ],
   "source": [
    "meanlist = []\n",
    "varlist = []\n",
    "for i in range(1000):\n",
    "    sample = pd.DataFrame(np.random.normal(10, 5, size=30))\n",
    "    meanlist.append(sample[0].mean())\n",
    "    varlist.append(sample[0].var(ddof=1))\n",
    "collection = pd.DataFrame()\n",
    "collection['meanlist'] = meanlist\n",
    "collection['varlist'] = varlist\n",
    "collection['meanlist'].hist(bins=500, normed=1)"
   ]
  },
  {
   "cell_type": "code",
   "execution_count": 15,
   "metadata": {},
   "outputs": [
    {
     "data": {
      "text/plain": [
       "<matplotlib.axes._subplots.AxesSubplot at 0x7f53fe0a54e0>"
      ]
     },
     "execution_count": 15,
     "metadata": {},
     "output_type": "execute_result"
    }
   ],
   "source": [
    "collection['varlist'].hist(bins=500, normed=1)"
   ]
  },
  {
   "cell_type": "code",
   "execution_count": 17,
   "metadata": {},
   "outputs": [
    {
     "data": {
      "text/plain": [
       "<matplotlib.axes._subplots.AxesSubplot at 0x7f53fe0a54e0>"
      ]
     },
     "execution_count": 17,
     "metadata": {},
     "output_type": "execute_result"
    }
   ],
   "source": [
    "pop = pd.DataFrame(np.random.normal(10, 5, size=100000))\n",
    "\n",
    "pop[0].hist(bins=500, color='cyan', normed=1)\n",
    "collection['meanlist'].hist(bins=500, color='red', normed=1)"
   ]
  },
  {
   "cell_type": "code",
   "execution_count": 20,
   "metadata": {
    "collapsed": true
   },
   "outputs": [],
   "source": [
    "samplemeanlist = []\n",
    "apop = pd.DataFrame([1, 0, 1, 0, 1])\n",
    "for i in range(100000):\n",
    "    sample = apop[0].sample(10, replace=True)\n",
    "    samplemeanlist.append(sample.mean())\n",
    "\n",
    "acollec = pd.DataFrame()\n",
    "acollec['meanlist'] = samplemeanlist"
   ]
  },
  {
   "cell_type": "code",
   "execution_count": 21,
   "metadata": {},
   "outputs": [
    {
     "data": {
      "text/plain": [
       "<matplotlib.axes._subplots.AxesSubplot at 0x7f53fe0a54e0>"
      ]
     },
     "execution_count": 21,
     "metadata": {},
     "output_type": "execute_result"
    }
   ],
   "source": [
    "acollec['meanlist'].hist(bins=500, color='red', normed=1)"
   ]
  },
  {
   "cell_type": "code",
   "execution_count": 22,
   "metadata": {
    "collapsed": true
   },
   "outputs": [],
   "source": [
    "samplemeanlist = []\n",
    "for i in range(100000):\n",
    "    sample = apop[0].sample(2000, replace=True)\n",
    "    samplemeanlist.append(sample.mean())\n",
    "\n",
    "acollec = pd.DataFrame()\n",
    "acollec['meanlist'] = samplemeanlist"
   ]
  },
  {
   "cell_type": "code",
   "execution_count": 23,
   "metadata": {},
   "outputs": [
    {
     "data": {
      "text/plain": [
       "<matplotlib.axes._subplots.AxesSubplot at 0x7f53fe0a54e0>"
      ]
     },
     "execution_count": 23,
     "metadata": {},
     "output_type": "execute_result"
    }
   ],
   "source": [
    "acollec['meanlist'].hist(bins=500, color='red', normed=1)"
   ]
  }
 ],
 "metadata": {
  "kernelspec": {
   "display_name": "Python 3",
   "language": "python",
   "name": "python3"
  },
  "language_info": {
   "codemirror_mode": {
    "name": "ipython",
    "version": 3
   },
   "file_extension": ".py",
   "mimetype": "text/x-python",
   "name": "python",
   "nbconvert_exporter": "python",
   "pygments_lexer": "ipython3",
   "version": "3.6.2"
  }
 },
 "nbformat": 4,
 "nbformat_minor": 2
}
